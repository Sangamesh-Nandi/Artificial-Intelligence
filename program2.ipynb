{
 "cells": [
  {
   "cell_type": "code",
   "execution_count": 2,
   "id": "296ba121-82d3-4935-8f8f-744607a53c8d",
   "metadata": {},
   "outputs": [
    {
     "name": "stdout",
     "output_type": "stream",
     "text": [
      "Solution found in 2 steps:\n",
      "3 missionaries, 2 cannibals on Right\n",
      "2 missionaries, 1 cannibals on Left\n",
      "0 missionaries, 0 cannibals on Right\n"
     ]
    }
   ],
   "source": [
    "def missionaries_and_cannibals(num_missionaries, num_cannibals):\n",
    "    visited = set()\n",
    "\n",
    "    def state(m1, c1, b):\n",
    "        return (m1, c1, b)\n",
    "\n",
    "    initial_state = state(num_missionaries, num_cannibals, 0)\n",
    "\n",
    "    def generate_successors(current_state):\n",
    "        m1, c1, boat_location = current_state\n",
    "        successors = []\n",
    "\n",
    "        for num_people in (1, 2):\n",
    "            if m1 >= num_people:\n",
    "                new_m1 = m1 - num_people\n",
    "                new_c1 = c1\n",
    "                new_boat_location = (boat_location + 1) % 2\n",
    "                if is_valid_state(new_m1, new_c1, new_boat_location):\n",
    "                    successors.append(state(new_m1, new_c1, new_boat_location))\n",
    "\n",
    "            if c1 >= num_people:\n",
    "                new_m1 = m1\n",
    "                new_c1 = c1 - num_people\n",
    "                new_boat_location = (boat_location + 1) % 2\n",
    "                if is_valid_state(new_m1, new_c1, new_boat_location):\n",
    "                    successors.append(state(new_m1, new_c1, new_boat_location))\n",
    "\n",
    "        return successors\n",
    "\n",
    "    def is_valid_state(m1, c1, boat_location):\n",
    "        if m1 < 0 or c1 < 0 or (m1 > 0 and c1 > 0 and m1 < c1):\n",
    "            return False\n",
    "        if boat_location == 0:\n",
    "            return True\n",
    "        else:\n",
    "            return m1 >= 0 and c1 >= 0\n",
    "\n",
    "    stack = [initial_state]\n",
    "    while stack:\n",
    "        current_state = stack.pop()\n",
    "        if current_state in visited:\n",
    "            continue\n",
    "        visited.add(current_state)\n",
    "\n",
    "        if current_state == state(0, 0, 1):\n",
    "            path = []\n",
    "            while current_state:\n",
    "                path.append(current_state)\n",
    "                current_state = stack.pop() if stack else None\n",
    "            return path[::-1]\n",
    "\n",
    "        for successor in generate_successors(current_state):\n",
    "            stack.append(successor)\n",
    "\n",
    "    return None\n",
    "\n",
    "num_missionaries = 3\n",
    "num_cannibals = 3\n",
    "solution = missionaries_and_cannibals(num_missionaries, num_cannibals)\n",
    "\n",
    "if solution:\n",
    "    print(\"Solution found in\", len(solution) - 1, \"steps:\")\n",
    "    for state in solution:\n",
    "        m1, c1, boat_location = state\n",
    "        side = \"Left\" if boat_location == 0 else \"Right\"\n",
    "        print(f\"{m1} missionaries, {c1} cannibals on {side}\")\n",
    "else:\n",
    "    print(\"No solution found.\")"
   ]
  },
  {
   "cell_type": "code",
   "execution_count": null,
   "id": "f22c780f-6916-4909-bc3d-4212e16290a6",
   "metadata": {},
   "outputs": [],
   "source": []
  }
 ],
 "metadata": {
  "kernelspec": {
   "display_name": "Python 3 (ipykernel)",
   "language": "python",
   "name": "python3"
  },
  "language_info": {
   "codemirror_mode": {
    "name": "ipython",
    "version": 3
   },
   "file_extension": ".py",
   "mimetype": "text/x-python",
   "name": "python",
   "nbconvert_exporter": "python",
   "pygments_lexer": "ipython3",
   "version": "3.12.7"
  }
 },
 "nbformat": 4,
 "nbformat_minor": 5
}
