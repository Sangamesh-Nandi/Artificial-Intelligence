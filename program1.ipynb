{
 "cells": [
  {
   "cell_type": "code",
   "execution_count": 8,
   "id": "e26e36f4-cf20-4d0c-9de9-16244755c692",
   "metadata": {},
   "outputs": [
    {
     "name": "stdout",
     "output_type": "stream",
     "text": [
      "Jug A\tJug B\n",
      "0 \t 0\n",
      "3 \t 0\n",
      "0 \t 3\n",
      "3 \t 3\n",
      "2 \t 4\n",
      "0 \t 2\n"
     ]
    }
   ],
   "source": [
    "def pour_water(juga,jugb):\n",
    "    max1,max2,fill=3,4,2\n",
    "    print(\"%d \\t %d\"%(juga,jugb))\n",
    "    if jugb==fill:\n",
    "        return\n",
    "    elif jugb==max2:\n",
    "        pour_water(0,juga)\n",
    "    elif juga!=0 and jugb==0:\n",
    "        pour_water(0,juga)\n",
    "    elif juga==fill:\n",
    "        pour_water(juga,0)\n",
    "    elif juga<max1:\n",
    "        pour_water(max1,jugb)\n",
    "    elif juga<(max2-jugb):\n",
    "        pour_water(0,(juga+jugb))\n",
    "    else:\n",
    "        pour_water(juga-(max2-jugb),(max2-jugb)+jugb)\n",
    "print(\"Jug A\\tJug B\")\n",
    "pour_water(0,0)"
   ]
  },
  {
   "cell_type": "code",
   "execution_count": null,
   "id": "6130dc87-e036-46dc-a14e-bebb654ff14a",
   "metadata": {},
   "outputs": [],
   "source": []
  }
 ],
 "metadata": {
  "kernelspec": {
   "display_name": "Python 3 (ipykernel)",
   "language": "python",
   "name": "python3"
  },
  "language_info": {
   "codemirror_mode": {
    "name": "ipython",
    "version": 3
   },
   "file_extension": ".py",
   "mimetype": "text/x-python",
   "name": "python",
   "nbconvert_exporter": "python",
   "pygments_lexer": "ipython3",
   "version": "3.12.7"
  }
 },
 "nbformat": 4,
 "nbformat_minor": 5
}
